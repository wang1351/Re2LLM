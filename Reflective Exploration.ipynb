{
 "cells": [
  {
   "cell_type": "code",
   "execution_count": 1,
   "id": "cd87d13c",
   "metadata": {},
   "outputs": [],
   "source": [
    "import openai\n",
    "import random\n",
    "import time\n",
    "import json\n",
    "import os\n",
    "with open('./movie/example_train_text.json', 'r') as file: #for Game dataset, change path to /absolute_path\n",
    "    \n",
    "    \n",
    "    \n",
    "    data = json.load(file)\n",
    "\n",
    "# Ensure you have set your OpenAI API key\n",
    "openai.api_key = 'KEY'\n",
    "\n",
    "def get_chat_completion(messages):\n",
    "    response = openai.ChatCompletion.create(\n",
    "        model=\"gpt-4\",  \n",
    "        messages=messages,\n",
    "        temperature=0\n",
    "    ) \n",
    "    return response.choices[0].message['content']"
   ]
  },
  {
   "cell_type": "code",
   "execution_count": 2,
   "id": "42b5abc6",
   "metadata": {},
   "outputs": [],
   "source": [
    "def get_hints(idx):\n",
    "    conversation_history = []\n",
    "    p1 = data[idx]['prompt']\n",
    "    label = data[idx]['label']\n",
    "    hints = []\n",
    "\n",
    "    conversation_history.append({\"role\": \"user\", \"content\": p1})\n",
    "    for delay_secs in (2**x for x in range(0, 10)):\n",
    "        try:\n",
    "            response = get_chat_completion(conversation_history)\n",
    "            conversation_history.append({\"role\": \"assistant\", \"content\": response})\n",
    "\n",
    "            if label not in response: #continue\n",
    "                p2 = 'Question: ' + p1 + '\\n\\nChatGPT: ' + response + \"\\n\\nNow, know that none of these answers is the target. Infer about possible mistakes in the ChatGPT's predictions.\"\n",
    "                conversation_history.append({\"role\": \"user\", \"content\": p2})\n",
    "                response = get_chat_completion(conversation_history)\n",
    "                conversation_history.append({\"role\": \"assistant\", \"content\": response})\n",
    "                \n",
    "                p3 = 'The correct answser is ' + label + '.\\n\\nAnalyze why ChatGPT missed the target item from a wide variety of aspects. Explain the causes for the oversights based on earlier analysis.'\n",
    "                conversation_history.append({\"role\": \"user\", \"content\": p3})\n",
    "                response = get_chat_completion(conversation_history)\n",
    "                conversation_history.append({\"role\": \"assistant\", \"content\": response})\n",
    "                \n",
    "                p4 = 'Provide short hints (imperative sentences) for AI to try again according to each point of the previous step, without information leakage of the target item.'\n",
    "                conversation_history.append({\"role\": \"user\", \"content\": p4})\n",
    "                response = get_chat_completion(conversation_history)\n",
    "                list_of_hints = [each for each in response.split('\\n') if len(each)>0]\n",
    "                \n",
    "                #check effectiveness\n",
    "                for each in list_of_hints:\n",
    "                    if '.' in each:\n",
    "                        result = each.split('.')[-2]\n",
    "                    p5 = p1 + 'Hint: ' + each\n",
    "                    conversation_history = [{\"role\": \"user\", \"content\": p5}]\n",
    "                    response = get_chat_completion(conversation_history)\n",
    "                    if label in response:\n",
    "                        hints.append(each)\n",
    "                        print('Hint: ', each, ' passes effectiveness check.')\n",
    "                return hints\n",
    "            else: \n",
    "                return None\n",
    "            \n",
    "        except openai.OpenAIError as e:\n",
    "            randomness_collision_avoidance = random.randint(0, 1000) / 1000.0\n",
    "            sleep_dur = delay_secs + randomness_collision_avoidance\n",
    "            print(f\"Error: {e}. Retrying in {round(sleep_dur, 2)} seconds.\")\n",
    "            time.sleep(sleep_dur)\n",
    "            continue"
   ]
  },
  {
   "cell_type": "code",
   "execution_count": 3,
   "id": "4f75fa66",
   "metadata": {},
   "outputs": [],
   "source": [
    "def get_completion(prompt, model=\"gpt-4\"):\n",
    "    messages = [{\"role\": \"assistant\", \"content\": prompt}]\n",
    "    response = openai.ChatCompletion.create(\n",
    "    model=model,\n",
    "    messages=messages,\n",
    "    temperature=0\n",
    "    )\n",
    "    return response.choices[0].message[\"content\"]"
   ]
  },
  {
   "cell_type": "code",
   "execution_count": 4,
   "id": "0d9eb727",
   "metadata": {},
   "outputs": [
    {
     "name": "stdout",
     "output_type": "stream",
     "text": [
      "Hint:  3. Understand User Preferences: Try to infer more about the user's preferences, such as a potential interest in classic films, foreign films, or films with complex narratives.  passes effectiveness check.\n",
      "Hint:  5. Consider the Time Factor: Take into account the order in which the movies were watched to capture any evolution in the user's preferences.  passes effectiveness check.\n",
      "Hint:   Understand User Preferences: Try to infer more about the user's preferences, such as a potential interest in classic films, foreign films, or films with complex narratives  passes non-redundancy check.\n",
      "Hint:   Consider the Time Factor: Take into account the order in which the movies were watched to capture any evolution in the user's preferences  passes non-redundancy check.\n",
      "Hint:  2. Don't overlook foreign films when making recommendations.  passes effectiveness check.\n",
      "Hint:  3. Try to infer personal preferences from the user's watch history, such as a potential interest in classic or foreign films.  passes effectiveness check.\n",
      "Hint:  4. Don't prioritize recommending recent films. Consider films from all decades.  passes effectiveness check.\n",
      "Hint:  5. Look for films with unique narrative structures in the candidate set.  passes effectiveness check.\n",
      "Hint:   Consider the Time Factor: Take into account the order in which the movies were watched to capture any evolution in the user's preferences  fails non-redundancy check.\n",
      "Hint:   Consider the Time Factor: Take into account the order in which the movies were watched to capture any evolution in the user's preferences  fails non-redundancy check.\n",
      "Hint:   Consider films from all decades  passes non-redundancy check.\n",
      "Hint:   Consider films from all decades  fails non-redundancy check.\n",
      "Hint:  1. Consider all genres: Don't just focus on the dominant genres in the user's watch history. Also consider movies from other genres in the candidate set.  passes effectiveness check.\n",
      "Hint:  2. Pay attention to directors and actors: Look for connections between the directors and actors of the movies the user watched and those in the candidate set.  passes effectiveness check.\n",
      "Hint:  3. Consider ratings and popularity: Don't just prioritize movies with higher ratings or popularity. Also consider movies with lower ratings or less popularity.  passes effectiveness check.\n",
      "Hint:   Also consider movies from other genres in the candidate set  passes non-redundancy check.\n",
      "Hint:   Pay attention to directors and actors: Look for connections between the directors and actors of the movies the user watched and those in the candidate set  passes non-redundancy check.\n",
      "Hint:   Also consider movies with lower ratings or less popularity  passes non-redundancy check.\n"
     ]
    }
   ],
   "source": [
    "knowledge_base = [''] #start with no-hint\n",
    "kb_size = 5 # use 5 here for some fast printouts\n",
    "while len(knowledge_base) < kb_size: \n",
    "    list_of_hints = get_hints(random.randint(0,len(data)-1)) #this will return a list of hints\n",
    "    if list_of_hints == None:\n",
    "        continue\n",
    "    for each in list_of_hints:\n",
    "        p6 = \"Does hint '\" + each + \"' convey similar ideas to any of \"+ str(knowledge_base) + \"? Return 1 if true, else return 0.\"\n",
    "        for delay_secs in (2**x for x in range(0, 10)):\n",
    "            try:\n",
    "                response = get_completion(p6)\n",
    "                if '0' in response:\n",
    "                    if '.' in each:\n",
    "                        result = each.split('.')[-2]\n",
    "                    knowledge_base.append(result)\n",
    "                    print('Hint: ', result, ' passes non-redundancy check.')\n",
    "                else:\n",
    "                    print('Hint: ', result, ' fails non-redundancy check.')\n",
    "                break\n",
    "            except openai.OpenAIError as e:\n",
    "                randomness_collision_avoidance = random.randint(0, 1000) / 1000.0\n",
    "                sleep_dur = delay_secs + randomness_collision_avoidance\n",
    "                print(f\"Error: {e}. Retrying in {round(sleep_dur, 2)} seconds.\")\n",
    "                time.sleep(sleep_dur)\n",
    "                continue\n",
    "\n",
    "\n",
    "\n",
    "knowledge_base = random.sample(knowledge_base, kb_size) #edge case: last sample produces more hints than kb_size\n"
   ]
  },
  {
   "cell_type": "code",
   "execution_count": 5,
   "id": "13049867",
   "metadata": {},
   "outputs": [
    {
     "data": {
      "text/plain": [
       "[' Also consider movies with lower ratings or less popularity',\n",
       " \" Consider the Time Factor: Take into account the order in which the movies were watched to capture any evolution in the user's preferences\",\n",
       " ' Pay attention to directors and actors: Look for connections between the directors and actors of the movies the user watched and those in the candidate set',\n",
       " \" Understand User Preferences: Try to infer more about the user's preferences, such as a potential interest in classic films, foreign films, or films with complex narratives\",\n",
       " ' Also consider movies from other genres in the candidate set']"
      ]
     },
     "execution_count": 5,
     "metadata": {},
     "output_type": "execute_result"
    }
   ],
   "source": [
    "knowledge_base"
   ]
  },
  {
   "cell_type": "code",
   "execution_count": null,
   "id": "06ee1e29",
   "metadata": {},
   "outputs": [],
   "source": [
    "hints = [each.strip() for each in knowledge_base]\n",
    "with open('./movie/hints.json', \"w\") as json_file:\n",
    "    json.dump(hints, json_file)"
   ]
  }
 ],
 "metadata": {
  "kernelspec": {
   "display_name": "Python 3 (ipykernel)",
   "language": "python",
   "name": "python3"
  },
  "language_info": {
   "codemirror_mode": {
    "name": "ipython",
    "version": 3
   },
   "file_extension": ".py",
   "mimetype": "text/x-python",
   "name": "python",
   "nbconvert_exporter": "python",
   "pygments_lexer": "ipython3",
   "version": "3.9.12"
  }
 },
 "nbformat": 4,
 "nbformat_minor": 5
}
